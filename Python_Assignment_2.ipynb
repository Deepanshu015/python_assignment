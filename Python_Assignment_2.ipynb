{
 "cells": [
  {
   "cell_type": "markdown",
   "id": "71bd44ab-79d6-4959-ab0c-4e9c3a5897cb",
   "metadata": {},
   "source": [
    "1.What are the two values of the Boolean data type? How do you write them?"
   ]
  },
  {
   "cell_type": "markdown",
   "id": "533f7058-5122-4f22-9b7f-1bea8ff6fc6b",
   "metadata": {},
   "source": [
    "1(ans).\n",
    "true and false\n",
    "1==1(true)\n",
    "2>5(false)"
   ]
  },
  {
   "cell_type": "raw",
   "id": "42ea418a-b318-4fba-a81a-606f03a70441",
   "metadata": {},
   "source": [
    "2. What are the three different types of Boolean operators?"
   ]
  },
  {
   "cell_type": "markdown",
   "id": "0858811a-ccac-4ea1-899b-2434d8b5697f",
   "metadata": {},
   "source": [
    "2(ans).\n",
    "and\n",
    "or\n",
    "not"
   ]
  },
  {
   "cell_type": "raw",
   "id": "3e0b7e9a-0ed4-465b-8dbd-460f66990d2b",
   "metadata": {},
   "source": [
    "3. Make a list of each Boolean operator's truth tables (i.e. every possible combination of Boolean values for the operator and what it evaluate )."
   ]
  },
  {
   "cell_type": "markdown",
   "id": "df655dac-7a1a-4df6-b302-14677ca53fb5",
   "metadata": {},
   "source": [
    "3(ans).\n",
    "True and True is True.\n",
    "\n",
    "True and False is False.\n",
    "\n",
    "False and True is False.\n",
    "\n",
    "False and False is False.\n",
    "\n",
    "True or True is True.\n",
    "\n",
    "True or False is True.\n",
    "\n",
    "False or True is True.\n",
    "\n",
    "False or False is False.\n",
    "\n",
    "not True is False.\n",
    "\n",
    "not False is True."
   ]
  },
  {
   "cell_type": "raw",
   "id": "597ddcb5-b359-4fcf-8e94-366f1a5b2df9",
   "metadata": {},
   "source": [
    "4. What are the values of the following expressions?\n",
    "(5 > 4) and (3 == 5)\n",
    "not (5 > 4)\n",
    "(5 > 4) or (3 == 5)\n",
    "not ((5 > 4) or (3 == 5))\n",
    "(True and True) and (True == False)\n",
    "(not False) or (not True)\n"
   ]
  },
  {
   "cell_type": "raw",
   "id": "0bc6fb86-7d01-4203-88d3-aae5327bea3e",
   "metadata": {},
   "source": [
    "4(ans).\n",
    "false\n",
    "false\n",
    "true\n",
    "false\n",
    "false\n",
    "true"
   ]
  },
  {
   "cell_type": "raw",
   "id": "8915da01-dce4-43be-aef9-b4e0a56a890c",
   "metadata": {},
   "source": [
    "5. What are the six comparison operators?"
   ]
  },
  {
   "cell_type": "raw",
   "id": "05c9639e-459c-4e95-90db-f29cdc443817",
   "metadata": {},
   "source": [
    "5(ans).\n",
    "==\n",
    "!=\n",
    "<\n",
    ">\n",
    "=>\n",
    "=<\n"
   ]
  },
  {
   "cell_type": "raw",
   "id": "0cca8d05-76c2-498c-b72e-ba4776e08347",
   "metadata": {},
   "source": [
    "6. How do you tell the difference between the equal to and assignment operators?Describe a condition and when you would use one."
   ]
  },
  {
   "cell_type": "raw",
   "id": "aba934bd-741d-4071-a478-a0a0a192dd98",
   "metadata": {},
   "source": [
    "6(ans).\n",
    "assignment operator(=) is used for assigned the values on right side.\n",
    "equal operator(==) is used to check whether the values are equal or not."
   ]
  },
  {
   "cell_type": "raw",
   "id": "5b184c57-5d7d-41bb-9e56-0b6cef5affac",
   "metadata": {},
   "source": [
    "7. Identify the three blocks in this code:\n",
    "spam = 0\n",
    "if spam == 10:\n",
    "print('eggs')\n",
    "if spam > 5:\n",
    "print('bacon')\n",
    "else:\n",
    "print('ham')\n",
    "print('spam')\n",
    "print('spam')"
   ]
  },
  {
   "cell_type": "code",
   "execution_count": 1,
   "id": "e69f1e74-12c3-4845-aa9a-7d7cb872b63d",
   "metadata": {},
   "outputs": [
    {
     "name": "stdout",
     "output_type": "stream",
     "text": [
      "ham\n",
      "spam\n",
      "spam\n"
     ]
    }
   ],
   "source": [
    "7(ans).\n",
    "spam = 0\n",
    "if spam == 10:\n",
    "    print('eggs') #Block 1\n",
    "if spam > 5:\n",
    "    print('bacon') #Block 2\n",
    "else:\n",
    "    print('ham') #Block 3\n",
    "    print('spam')\n",
    "    print('spam')"
   ]
  },
  {
   "cell_type": "raw",
   "id": "9217a8ae-1613-402c-9977-62204573ca5f",
   "metadata": {},
   "source": [
    "8. Write code that prints Hello if 1 is stored in spam, prints Howdy if 2 is stored in spam, and prints Greetings! if anything else is stored in spam."
   ]
  },
  {
   "cell_type": "code",
   "execution_count": 10,
   "id": "9486b9c9-9e83-4772-8749-e4ac8c3066eb",
   "metadata": {},
   "outputs": [
    {
     "name": "stdin",
     "output_type": "stream",
     "text": [
      "enter the number:  1\n"
     ]
    },
    {
     "name": "stdout",
     "output_type": "stream",
     "text": [
      "hello\n"
     ]
    }
   ],
   "source": [
    "8(ans).\n",
    "spam = (int(input(\"enter the number: \")))\n",
    "if spam == 1:\n",
    "    print(\"hello\")\n",
    "elif spam == 2:\n",
    "    print(\"howdy\")\n",
    "else:\n",
    "    print(\"greetings\")"
   ]
  },
  {
   "cell_type": "markdown",
   "id": "46791e1e-92cb-4249-845a-9fd1b62296ff",
   "metadata": {},
   "source": [
    "9.If your programme is stuck in an endless loop, what keys you’ll press?"
   ]
  },
  {
   "cell_type": "raw",
   "id": "336cedb8-b7c0-49ca-8c53-42406c3ae42b",
   "metadata": {},
   "source": [
    "9(ans).\n",
    "If program is stuck in endless loop we will press ctrl+c"
   ]
  },
  {
   "cell_type": "raw",
   "id": "8e142910-1ccc-4b00-a0ce-5ffeda97962b",
   "metadata": {},
   "source": [
    "10. How can you tell the difference between break and continue?"
   ]
  },
  {
   "cell_type": "code",
   "execution_count": 12,
   "id": "ba56f247-a301-43f0-92a0-e9946e107c93",
   "metadata": {},
   "outputs": [
    {
     "name": "stdout",
     "output_type": "stream",
     "text": [
      "0\n",
      "1\n",
      "2\n",
      "3\n",
      "4\n",
      "5\n",
      "6\n",
      "Breaked\n",
      "0\n",
      "1\n",
      "2\n",
      "3\n",
      "4\n",
      "5\n",
      "6\n",
      "8\n",
      "9\n"
     ]
    }
   ],
   "source": [
    "# use of break\n",
    "for i in range(10):\n",
    "    if(i==7):\n",
    "        break\n",
    "    print(i)\n",
    "    \n",
    "print('Breaked')\n",
    "\n",
    "#use of  continue\n",
    "for i in range(10):\n",
    "    if(i==7):\n",
    "        continue\n",
    "    print(i)"
   ]
  },
  {
   "cell_type": "raw",
   "id": "ad291540-439d-477c-9f6e-62eb59a84422",
   "metadata": {},
   "source": [
    "11. In a for loop, what is the difference between range(10), range(0, 10), and range(0, 10, 1)?"
   ]
  },
  {
   "cell_type": "code",
   "execution_count": 29,
   "id": "a7c4cfb9-f21a-4570-bdca-50fb4090d4b0",
   "metadata": {},
   "outputs": [
    {
     "name": "stdout",
     "output_type": "stream",
     "text": [
      "ok 0\n",
      "ok 1\n",
      "ok 2\n",
      "ok 3\n",
      "ok 4\n",
      "ok 5\n",
      "ok 6\n",
      "ok 7\n",
      "ok 8\n",
      "ok 9\n",
      "cat 0\n",
      "cat 1\n",
      "cat 2\n",
      "cat 3\n",
      "cat 4\n",
      "cat 5\n",
      "cat 6\n",
      "cat 7\n",
      "cat 8\n",
      "cat 9\n",
      "cool 0\n",
      "cool 1\n",
      "cool 2\n",
      "cool 3\n",
      "cool 4\n",
      "cool 5\n",
      "cool 6\n",
      "cool 7\n",
      "cool 8\n",
      "cool 9\n"
     ]
    }
   ],
   "source": [
    "for i in range(10):\n",
    "    print(\"ok\",i)\n",
    "\n",
    "for i in range (0,10):\n",
    "    print(\"cat\",i)\n",
    "\n",
    "for i in range (0,10,1):\n",
    "    print(\"cool\",i)"
   ]
  },
  {
   "cell_type": "raw",
   "id": "4ebe9a93-2c7e-4aaf-8ea7-257fd4a17a8d",
   "metadata": {},
   "source": [
    "12. Write a short program that prints the numbers 1 to 10 using a for loop. Then write an equivalent program that prints the numbers 1 to 10 using a while loop."
   ]
  },
  {
   "cell_type": "code",
   "execution_count": 39,
   "id": "16cb6c20-d03f-48e7-a1bf-c2ce0670baea",
   "metadata": {},
   "outputs": [
    {
     "name": "stdout",
     "output_type": "stream",
     "text": [
      "for loop 1\n",
      "for loop 2\n",
      "for loop 3\n",
      "for loop 4\n",
      "for loop 5\n",
      "for loop 6\n",
      "for loop 7\n",
      "for loop 8\n",
      "for loop 9\n",
      "for loop 10\n",
      "while loop 1\n",
      "while loop 2\n",
      "while loop 3\n",
      "while loop 4\n",
      "while loop 5\n",
      "while loop 6\n",
      "while loop 7\n",
      "while loop 8\n",
      "while loop 9\n",
      "while loop 10\n"
     ]
    }
   ],
   "source": [
    "12(ans).\n",
    "for i in range(1,11):\n",
    "    print(\"for loop\",i)\n",
    "\n",
    "i = 1\n",
    "while i <= 10:\n",
    "    print(\"while loop\",i)\n",
    "    i=i+1"
   ]
  },
  {
   "cell_type": "raw",
   "id": "7f7ea5ed-d87b-43cc-be78-dac6ffb3578f",
   "metadata": {},
   "source": [
    "13. If you had a function named bacon() inside a module named spam, how would you call it after importing spam?"
   ]
  },
  {
   "cell_type": "raw",
   "id": "03f192a8-e787-4f10-96f5-f232d4c29edc",
   "metadata": {},
   "source": [
    "13(ans).\n",
    "import spam\n",
    "spam.bacon()"
   ]
  }
 ],
 "metadata": {
  "kernelspec": {
   "display_name": "Python 3 (ipykernel)",
   "language": "python",
   "name": "python3"
  },
  "language_info": {
   "codemirror_mode": {
    "name": "ipython",
    "version": 3
   },
   "file_extension": ".py",
   "mimetype": "text/x-python",
   "name": "python",
   "nbconvert_exporter": "python",
   "pygments_lexer": "ipython3",
   "version": "3.12.2"
  }
 },
 "nbformat": 4,
 "nbformat_minor": 5
}

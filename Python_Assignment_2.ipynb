{
 "cells": [
  {
   "cell_type": "markdown",
   "id": "71bd44ab-79d6-4959-ab0c-4e9c3a5897cb",
   "metadata": {},
   "source": [
    "1.What are the two values of the Boolean data type? How do you write them?"
   ]
  },
  {
   "cell_type": "code",
   "execution_count": null,
   "id": "8d05c3bc-c7c5-46f6-900e-ef5e6f57bad4",
   "metadata": {},
   "outputs": [],
   "source": [
    "1(ans).\n",
    "\n",
    "  true and false\n",
    "  1==1 (true)\n",
    "  2>5 (false)"
   ]
  },
  {
   "cell_type": "markdown",
   "id": "3f6f0b73-cb5e-4827-8e7a-2941834dce7a",
   "metadata": {},
   "source": [
    "2. What are the three different types of Boolean operators?"
   ]
  },
  {
   "cell_type": "code",
   "execution_count": null,
   "id": "c53b38cc-e150-4e7e-bde9-bd008a2264bb",
   "metadata": {},
   "outputs": [],
   "source": [
    "2(ans).\n",
    "\n",
    "(i).    and\n",
    "(ii).   or\n",
    "(iii).  not"
   ]
  },
  {
   "cell_type": "markdown",
   "id": "59931390-b2e7-4068-a2c9-d58fc30cf46d",
   "metadata": {},
   "source": [
    "3. Make a list of each Boolean operator's truth tables (i.e. every possible combination of Boolean values for the operator and what it evaluate )."
   ]
  },
  {
   "cell_type": "code",
   "execution_count": null,
   "id": "3c5afe9c-e938-4ab0-8be8-fffa2135985d",
   "metadata": {},
   "outputs": [],
   "source": [
    "3(ans).\n",
    "\n",
    "True and True is True.\n",
    "\n",
    "True and False is False.\n",
    "\n",
    "False and True is False.\n",
    "\n",
    "False and False is False.\n",
    "\n",
    "True or True is True.\n",
    "\n",
    "True or False is True.\n",
    "\n",
    "False or True is True.\n",
    "\n",
    "False or False is False.\n",
    "\n",
    "not True is False.\n",
    "\n",
    "not False is True."
   ]
  },
  {
   "cell_type": "code",
   "execution_count": null,
   "id": "226745a6-a2ca-4f8f-b3fb-d5f111cdc4da",
   "metadata": {},
   "outputs": [],
   "source": [
    "4. What are the values of the following expressions?\n",
    "(i).   (5 > 4) and (3 == 5)\n",
    "(ii).  not (5 > 4)\n",
    "(iii). (5 > 4) or (3 == 5)\n",
    "(vi).  not ((5 > 4) or (3 == 5))\n",
    "(v).   (True and True) and (True == False)\n",
    "(vi).  (not False) or (not True)\n"
   ]
  },
  {
   "cell_type": "code",
   "execution_count": null,
   "id": "9afb98b5-dd0c-4cad-a319-428705f39026",
   "metadata": {},
   "outputs": [],
   "source": [
    "4(ans).\n",
    "\n",
    "(i).   false\n",
    "(ii).  false\n",
    "(iii). true\n",
    "(vi).  false\n",
    "(v).   false\n",
    "(vi).  true"
   ]
  },
  {
   "cell_type": "markdown",
   "id": "58d0a7a7-b027-4d5b-83cf-08ff147af682",
   "metadata": {},
   "source": [
    "5. What are the six comparison operators?"
   ]
  },
  {
   "cell_type": "code",
   "execution_count": null,
   "id": "36d092cb-cf60-43d4-88c9-0a809b8b3716",
   "metadata": {},
   "outputs": [],
   "source": [
    "5(ans).\n",
    "\n",
    "(i).   ==\n",
    "(ii).  !=\n",
    "(iii). <\n",
    "(vi).  >\n",
    "(v).   =>\n",
    "(vi).  =<\n"
   ]
  },
  {
   "cell_type": "markdown",
   "id": "794a0f2c-bbcb-46ce-b9c7-03ec5cb22f13",
   "metadata": {},
   "source": [
    "6. How do you tell the difference between the equal to and assignment operators?Describe a condition and when you would use one."
   ]
  },
  {
   "cell_type": "code",
   "execution_count": null,
   "id": "be1c8b67-28e5-4ead-be4a-64248b986155",
   "metadata": {},
   "outputs": [],
   "source": [
    "6(ans).\n",
    "\n",
    "assignment operator(=) is used for assigned the values on right side.\n",
    "equal operator(==) is used to check whether the values are equal or not."
   ]
  },
  {
   "cell_type": "markdown",
   "id": "f542b1f2-2396-4aec-b0f6-40bd72950467",
   "metadata": {},
   "source": [
    "7. Identify the three blocks in this code:\n",
    "spam = 0\n",
    "if spam == 10:\n",
    "print('eggs')\n",
    "if spam > 5:\n",
    "print('bacon')\n",
    "else:\n",
    "print('ham')\n",
    "print('spam')\n",
    "print('spam')"
   ]
  },
  {
   "cell_type": "code",
   "execution_count": 4,
   "id": "e69f1e74-12c3-4845-aa9a-7d7cb872b63d",
   "metadata": {},
   "outputs": [
    {
     "name": "stdout",
     "output_type": "stream",
     "text": [
      "ham\n",
      "spam\n",
      "spam\n"
     ]
    }
   ],
   "source": [
    "#7(ans).\n",
    "\n",
    "spam = 0\n",
    "if spam == 10:\n",
    "    print('eggs') #Block 1\n",
    "if spam > 5:\n",
    "    print('bacon') #Block 2\n",
    "else:\n",
    "    print('ham') #Block 3\n",
    "    print('spam')\n",
    "    print('spam')"
   ]
  },
  {
   "cell_type": "markdown",
   "id": "bbb0ccbb-cdad-463b-a8e2-48a75dd452a4",
   "metadata": {},
   "source": [
    "8. Write code that prints Hello if 1 is stored in spam, prints Howdy if 2 is stored in spam, and prints Greetings! if anything else is stored in spam."
   ]
  },
  {
   "cell_type": "code",
   "execution_count": 5,
   "id": "77dbe519-bd9c-4486-baab-d798c2a21058",
   "metadata": {},
   "outputs": [
    {
     "name": "stdin",
     "output_type": "stream",
     "text": [
      "enter the number:  2\n"
     ]
    },
    {
     "name": "stdout",
     "output_type": "stream",
     "text": [
      "howdy\n"
     ]
    }
   ],
   "source": [
    "#8(ans).\n",
    "\n",
    "spam = (int(input(\"enter the number: \")))\n",
    "if spam == 1:\n",
    "    print(\"hello\")\n",
    "elif spam == 2:\n",
    "    print(\"howdy\")\n",
    "else:\n",
    "    print(\"greetings\")"
   ]
  },
  {
   "cell_type": "markdown",
   "id": "46791e1e-92cb-4249-845a-9fd1b62296ff",
   "metadata": {},
   "source": [
    "9.If your programme is stuck in an endless loop, what keys you’ll press?"
   ]
  },
  {
   "cell_type": "code",
   "execution_count": null,
   "id": "77afb58f-99c5-4d12-b796-7285fac1ab7a",
   "metadata": {},
   "outputs": [],
   "source": [
    "9(ans).\n",
    "\n",
    "If program is stuck in endless loop we will press ctrl+c"
   ]
  },
  {
   "cell_type": "markdown",
   "id": "89413af0-31f8-4737-af83-029efeffd480",
   "metadata": {},
   "source": [
    "10. How can you tell the difference between break and continue?"
   ]
  },
  {
   "cell_type": "code",
   "execution_count": 12,
   "id": "ba56f247-a301-43f0-92a0-e9946e107c93",
   "metadata": {},
   "outputs": [
    {
     "name": "stdout",
     "output_type": "stream",
     "text": [
      "0\n",
      "1\n",
      "2\n",
      "3\n",
      "4\n",
      "5\n",
      "6\n",
      "Breaked\n",
      "0\n",
      "1\n",
      "2\n",
      "3\n",
      "4\n",
      "5\n",
      "6\n",
      "8\n",
      "9\n"
     ]
    }
   ],
   "source": [
    "# use of break\n",
    "for i in range(10):\n",
    "    if(i==7):\n",
    "        break\n",
    "    print(i)\n",
    "    \n",
    "print('Breaked')\n",
    "\n",
    "#use of  continue\n",
    "for i in range(10):\n",
    "    if(i==7):\n",
    "        continue\n",
    "    print(i)"
   ]
  },
  {
   "cell_type": "markdown",
   "id": "f6fb45c0-7ab3-497e-8648-a308e423b5d3",
   "metadata": {},
   "source": [
    "11. In a for loop, what is the difference between range(10), range(0, 10), and range(0, 10, 1)?"
   ]
  },
  {
   "cell_type": "code",
   "execution_count": 29,
   "id": "a7c4cfb9-f21a-4570-bdca-50fb4090d4b0",
   "metadata": {},
   "outputs": [
    {
     "name": "stdout",
     "output_type": "stream",
     "text": [
      "ok 0\n",
      "ok 1\n",
      "ok 2\n",
      "ok 3\n",
      "ok 4\n",
      "ok 5\n",
      "ok 6\n",
      "ok 7\n",
      "ok 8\n",
      "ok 9\n",
      "cat 0\n",
      "cat 1\n",
      "cat 2\n",
      "cat 3\n",
      "cat 4\n",
      "cat 5\n",
      "cat 6\n",
      "cat 7\n",
      "cat 8\n",
      "cat 9\n",
      "cool 0\n",
      "cool 1\n",
      "cool 2\n",
      "cool 3\n",
      "cool 4\n",
      "cool 5\n",
      "cool 6\n",
      "cool 7\n",
      "cool 8\n",
      "cool 9\n"
     ]
    }
   ],
   "source": [
    "for i in range(10):\n",
    "    print(\"ok\",i)\n",
    "\n",
    "for i in range (0,10):\n",
    "    print(\"cat\",i)\n",
    "\n",
    "for i in range (0,10,1):\n",
    "    print(\"cool\",i)"
   ]
  },
  {
   "cell_type": "markdown",
   "id": "6d847b48-99d4-41bf-9039-d87899dbfe1c",
   "metadata": {},
   "source": [
    "12. Write a short program that prints the numbers 1 to 10 using a for loop. Then write an equivalent program that prints the numbers 1 to 10 using a while loop."
   ]
  },
  {
   "cell_type": "code",
   "execution_count": 39,
   "id": "16cb6c20-d03f-48e7-a1bf-c2ce0670baea",
   "metadata": {},
   "outputs": [
    {
     "name": "stdout",
     "output_type": "stream",
     "text": [
      "for loop 1\n",
      "for loop 2\n",
      "for loop 3\n",
      "for loop 4\n",
      "for loop 5\n",
      "for loop 6\n",
      "for loop 7\n",
      "for loop 8\n",
      "for loop 9\n",
      "for loop 10\n",
      "while loop 1\n",
      "while loop 2\n",
      "while loop 3\n",
      "while loop 4\n",
      "while loop 5\n",
      "while loop 6\n",
      "while loop 7\n",
      "while loop 8\n",
      "while loop 9\n",
      "while loop 10\n"
     ]
    }
   ],
   "source": [
    "12(ans).\n",
    "for i in range(1,11):\n",
    "    print(\"for loop\",i)\n",
    "\n",
    "i = 1\n",
    "while i <= 10:\n",
    "    print(\"while loop\",i)\n",
    "    i=i+1"
   ]
  },
  {
   "cell_type": "markdown",
   "id": "9f89a185-bff2-4e69-9ac0-f12a565dc8ad",
   "metadata": {},
   "source": [
    "13. If you had a function named bacon() inside a module named spam, how would you call it after importing spam?"
   ]
  },
  {
   "cell_type": "code",
   "execution_count": null,
   "id": "0971647f-6000-42b5-9cc9-ad5049958a89",
   "metadata": {},
   "outputs": [],
   "source": [
    "13(ans).\n",
    "import spam\n",
    "spam.bacon()"
   ]
  }
 ],
 "metadata": {
  "kernelspec": {
   "display_name": "Python 3 (ipykernel)",
   "language": "python",
   "name": "python3"
  },
  "language_info": {
   "codemirror_mode": {
    "name": "ipython",
    "version": 3
   },
   "file_extension": ".py",
   "mimetype": "text/x-python",
   "name": "python",
   "nbconvert_exporter": "python",
   "pygments_lexer": "ipython3",
   "version": "3.12.2"
  }
 },
 "nbformat": 4,
 "nbformat_minor": 5
}

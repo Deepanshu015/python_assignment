{
 "cells": [
  {
   "cell_type": "markdown",
   "id": "90470f7a-9fe0-4e2e-a391-66f5c64b8e1a",
   "metadata": {},
   "source": [
    "1.\tWrite a Python Program to Find the Factorial of a Number?"
   ]
  },
  {
   "cell_type": "code",
   "execution_count": 13,
   "id": "dfef5205-b5fa-44a5-b7dd-e6ea0521e2c0",
   "metadata": {},
   "outputs": [
    {
     "name": "stdin",
     "output_type": "stream",
     "text": [
      "Enter the number:  4\n"
     ]
    },
    {
     "name": "stdout",
     "output_type": "stream",
     "text": [
      "****************************************\n",
      "24 is the factorial  of the number you have entered \n"
     ]
    }
   ],
   "source": [
    "import math\n",
    "class factorial:\n",
    "    def __init__(self,num):\n",
    "        self.num = num\n",
    "\n",
    "    def number_fact(self):\n",
    "        self.num = math.factorial(num)\n",
    "        return f\"{self.num} is the factorial  of the number you have entered \"\n",
    "\n",
    "num = int(input(\"Enter the number: \"))\n",
    "abc = factorial(num)\n",
    "print(\"*\"*40)\n",
    "print(abc.number_fact())\n",
    "        "
   ]
  },
  {
   "cell_type": "markdown",
   "id": "cf68f4d5-b6d2-4b95-9760-36c27f3106c6",
   "metadata": {},
   "source": [
    "2.\tWrite a Python Program to Display the multiplication Table?"
   ]
  },
  {
   "cell_type": "code",
   "execution_count": 38,
   "id": "db10831e-a121-4268-8326-3a27ec345444",
   "metadata": {},
   "outputs": [
    {
     "name": "stdin",
     "output_type": "stream",
     "text": [
      "enter number 10\n"
     ]
    },
    {
     "name": "stdout",
     "output_type": "stream",
     "text": [
      "2 * 1 = 2\n",
      "2 * 2 = 4\n",
      "2 * 3 = 6\n",
      "2 * 4 = 8\n",
      "2 * 5 = 10\n",
      "2 * 6 = 12\n",
      "2 * 7 = 14\n",
      "2 * 8 = 16\n",
      "2 * 9 = 18\n",
      "2 * 10 = 20\n"
     ]
    }
   ],
   "source": [
    "class table:\n",
    "    def __init__(self,num):\n",
    "        self.num = num\n",
    "    def multiplication_table(self):\n",
    "        for i in range(self.num):\n",
    "            if self.num > 0:\n",
    "                i = i + 1\n",
    "                print('2','*', i,'=', 2*i)\n",
    "\n",
    "num = int(input(\"enter number\"))\n",
    "abc = table(num)\n",
    "abc.multiplication_table()\n",
    "        "
   ]
  },
  {
   "cell_type": "markdown",
   "id": "a02ddc44-05a1-4e23-95a4-48ab5615305e",
   "metadata": {},
   "source": [
    "3.\tWrite a Python Program to Print the Fibonacci sequence?"
   ]
  },
  {
   "cell_type": "code",
   "execution_count": 9,
   "id": "a1e8e284-c0cd-44cb-bde8-1fa3363c7d4e",
   "metadata": {},
   "outputs": [
    {
     "name": "stdin",
     "output_type": "stream",
     "text": [
      "How many terms?  4\n"
     ]
    },
    {
     "name": "stdout",
     "output_type": "stream",
     "text": [
      "Fibonacci sequence:\n",
      "0\n",
      "1\n",
      "1\n",
      "2\n"
     ]
    }
   ],
   "source": [
    "def series():\n",
    "    nterms = int(input(\"How many terms? \"))\n",
    "    n1, n2 = 0, 1\n",
    "    count = 0\n",
    "    if nterms <= 0:\n",
    "        print(\"Please enter a positive integer\")\n",
    "    elif nterms == 1:\n",
    "        print(\"Fibonacci sequence upto\",nterms,\":\")\n",
    "        print(n1)\n",
    "    else:\n",
    "        print(\"Fibonacci sequence:\")\n",
    "        while count < nterms:\n",
    "            print(n1)\n",
    "            nth = n1 + n2\n",
    "            n1 = n2\n",
    "            n2 = nth\n",
    "            count += 1\n",
    "\n",
    "series()"
   ]
  },
  {
   "cell_type": "markdown",
   "id": "dfa8c0b1-2500-4cb0-bb36-a78f218cbd9a",
   "metadata": {},
   "source": [
    "4.\tWrite a Python Program to Check Armstrong Number?"
   ]
  },
  {
   "cell_type": "code",
   "execution_count": 15,
   "id": "3e5afe5f-5189-4695-8c5c-21e3910a2ba7",
   "metadata": {},
   "outputs": [
    {
     "name": "stdin",
     "output_type": "stream",
     "text": [
      "Enter a number:  10\n"
     ]
    },
    {
     "name": "stdout",
     "output_type": "stream",
     "text": [
      "10,is not an Armstrong number\n"
     ]
    }
   ],
   "source": [
    "def armstrong():\n",
    "    \n",
    "    sum = 0\n",
    "    temp = num\n",
    "    while temp > 0:\n",
    "        digit = temp % 10\n",
    "        sum += digit ** 3\n",
    "        temp //= 10\n",
    "        if num == sum:\n",
    "            return f\"{num},is an Armstrong number\"\n",
    "            \n",
    "        else:\n",
    "           return f\"{num},is not an Armstrong number\"\n",
    "            \n",
    "\n",
    "num = int(input(\"Enter a number: \"))\n",
    "\n",
    "print(armstrong())\n"
   ]
  },
  {
   "cell_type": "markdown",
   "id": "8e8403f6-1093-46f5-ad03-60e153d9230f",
   "metadata": {},
   "source": [
    "5.\tWrite a Python Program to Find Armstrong Number in an Interval?"
   ]
  },
  {
   "cell_type": "code",
   "execution_count": 16,
   "id": "ba546f5d-4115-41d8-8922-b7e58b663396",
   "metadata": {},
   "outputs": [
    {
     "name": "stdout",
     "output_type": "stream",
     "text": [
      "153\n",
      "370\n",
      "371\n",
      "407\n",
      "1634\n"
     ]
    }
   ],
   "source": [
    "lower = 100\n",
    "upper = 2000\n",
    "for num in range(lower, upper + 1):\n",
    "   order = len(str(num))\n",
    "   sum = 0\n",
    "   temp = num\n",
    "   while temp > 0:\n",
    "       digit = temp % 10\n",
    "       sum += digit ** order\n",
    "       temp //= 10\n",
    "   if num == sum:\n",
    "       print(num)"
   ]
  },
  {
   "cell_type": "markdown",
   "id": "1c81f559-0009-400c-aa54-9d79e47d0d85",
   "metadata": {},
   "source": [
    "6.\tWrite a Python Program to Find the Sum of Natural Numbers?"
   ]
  },
  {
   "cell_type": "code",
   "execution_count": 29,
   "id": "23f0affe-b85c-4a37-a86c-1711117eb2e2",
   "metadata": {},
   "outputs": [
    {
     "name": "stdout",
     "output_type": "stream",
     "text": [
      "16\n",
      "31\n",
      "45\n",
      "58\n",
      "70\n",
      "81\n",
      "91\n",
      "100\n",
      "108\n",
      "115\n",
      "121\n",
      "126\n",
      "130\n",
      "133\n",
      "135\n",
      "136\n"
     ]
    }
   ],
   "source": [
    "def xyz():\n",
    "    num = 16\n",
    "    if num<0:\n",
    "        print(\"enter posituve number\")\n",
    "    else:\n",
    "        sum = 0\n",
    "        while(num>0):\n",
    "            sum= sum+num\n",
    "            num = num- 1\n",
    "            print(sum)\n",
    "\n",
    "xyz()"
   ]
  },
  {
   "cell_type": "code",
   "execution_count": null,
   "id": "093479e4-6114-4140-a727-8d7a7d7e3387",
   "metadata": {},
   "outputs": [],
   "source": []
  }
 ],
 "metadata": {
  "kernelspec": {
   "display_name": "Python 3 (ipykernel)",
   "language": "python",
   "name": "python3"
  },
  "language_info": {
   "codemirror_mode": {
    "name": "ipython",
    "version": 3
   },
   "file_extension": ".py",
   "mimetype": "text/x-python",
   "name": "python",
   "nbconvert_exporter": "python",
   "pygments_lexer": "ipython3",
   "version": "3.12.2"
  }
 },
 "nbformat": 4,
 "nbformat_minor": 5
}

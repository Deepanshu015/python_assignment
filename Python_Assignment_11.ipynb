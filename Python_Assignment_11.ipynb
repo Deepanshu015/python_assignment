{
 "cells": [
  {
   "cell_type": "markdown",
   "id": "7705fe59-8522-413f-ba35-396738adc6a8",
   "metadata": {},
   "source": [
    "1.\tWrite a Python program to print \"Hello Python\"?"
   ]
  },
  {
   "cell_type": "code",
   "execution_count": 2,
   "id": "8686d96b-0ce6-4b92-af19-291ceb6848eb",
   "metadata": {},
   "outputs": [
    {
     "data": {
      "text/plain": [
       "'Hello Python'"
      ]
     },
     "execution_count": 2,
     "metadata": {},
     "output_type": "execute_result"
    }
   ],
   "source": [
    "def greetings():\n",
    "    return \"Hello Python\"\n",
    "\n",
    "greetings()"
   ]
  },
  {
   "cell_type": "markdown",
   "id": "87c362c3-8fee-4d0f-afdd-67f9c72ed36d",
   "metadata": {},
   "source": [
    "2.\tWrite a Python program to do arithmetical operations addition and division.?"
   ]
  },
  {
   "cell_type": "code",
   "execution_count": 11,
   "id": "438ee052-0750-428c-9dc4-92380103fd94",
   "metadata": {},
   "outputs": [
    {
     "data": {
      "text/plain": [
       "'Division of the two numbers is 5.0'"
      ]
     },
     "execution_count": 11,
     "metadata": {},
     "output_type": "execute_result"
    }
   ],
   "source": [
    "def addition(a,b):\n",
    "    return  f\"sum of the two numbers is {a+b}\"\n",
    "\n",
    "addition(10,20)\n",
    "\n",
    "def division(x,y):\n",
    "    return f\"Division of the two numbers is {x/y}\"\n",
    "\n",
    "division(25,5)"
   ]
  },
  {
   "cell_type": "markdown",
   "id": "d8f25cfc-2349-4674-a930-c0fc30eabd7d",
   "metadata": {},
   "source": [
    "3.\tWrite a Python program to find the area of a triangle?"
   ]
  },
  {
   "cell_type": "code",
   "execution_count": 13,
   "id": "a08d4b2b-bd8d-4c30-84b7-da54af383281",
   "metadata": {},
   "outputs": [
    {
     "data": {
      "text/plain": [
       "'Area of a triangle is 25.0'"
      ]
     },
     "execution_count": 13,
     "metadata": {},
     "output_type": "execute_result"
    }
   ],
   "source": [
    "def area_of_triangle(a,b):\n",
    "    return f\"Area of a triangle is {1/2 * a * b}\"\n",
    "    #Formula for right angle triangle is 1/2 * base * perpendicular height\n",
    "\n",
    "area_of_triangle(10,5)"
   ]
  },
  {
   "cell_type": "markdown",
   "id": "af8ad321-d6ef-4c10-9ba2-8c81cf9bfcaa",
   "metadata": {},
   "source": [
    "4.\tWrite a Python program to swap two variables?"
   ]
  },
  {
   "cell_type": "code",
   "execution_count": 14,
   "id": "a6124f99-378e-4093-b9e2-9037d617e500",
   "metadata": {},
   "outputs": [
    {
     "data": {
      "text/plain": [
       "(20, 10)"
      ]
     },
     "execution_count": 14,
     "metadata": {},
     "output_type": "execute_result"
    }
   ],
   "source": [
    "def swap(a,b):   \n",
    "  a,b=b,a \n",
    "  return a,b \n",
    "a=10 \n",
    "b=20 \n",
    "swap(a,b)"
   ]
  },
  {
   "cell_type": "markdown",
   "id": "324ff42a-fac9-4422-a4eb-4977d1826a27",
   "metadata": {},
   "source": [
    "5.\tWrite a Python program to generate a random number?"
   ]
  },
  {
   "cell_type": "code",
   "execution_count": 17,
   "id": "a7f9f18b-29d4-45fa-bc54-e9a119e2c32f",
   "metadata": {},
   "outputs": [
    {
     "data": {
      "text/plain": [
       "8176"
      ]
     },
     "execution_count": 17,
     "metadata": {},
     "output_type": "execute_result"
    }
   ],
   "source": [
    "import random\n",
    "\n",
    "def random_number():\n",
    "    return random.randint(0000,9999)\n",
    "random_number()"
   ]
  },
  {
   "cell_type": "code",
   "execution_count": null,
   "id": "d829797c-5266-48ce-b1da-63199ee31a24",
   "metadata": {},
   "outputs": [],
   "source": []
  }
 ],
 "metadata": {
  "kernelspec": {
   "display_name": "Python 3 (ipykernel)",
   "language": "python",
   "name": "python3"
  },
  "language_info": {
   "codemirror_mode": {
    "name": "ipython",
    "version": 3
   },
   "file_extension": ".py",
   "mimetype": "text/x-python",
   "name": "python",
   "nbconvert_exporter": "python",
   "pygments_lexer": "ipython3",
   "version": "3.12.2"
  }
 },
 "nbformat": 4,
 "nbformat_minor": 5
}

{
 "cells": [
  {
   "cell_type": "markdown",
   "id": "239d261d-7645-470d-8fc0-daa544dbdc45",
   "metadata": {},
   "source": [
    "1. How do you distinguish between shutil.copy() and shutil.copytree()?"
   ]
  },
  {
   "cell_type": "code",
   "execution_count": null,
   "id": "dcb25686-aa85-4087-bff4-b56574ad5410",
   "metadata": {},
   "outputs": [],
   "source": [
    "Ans. shutil.copy : Copies a single file\n",
    "shutil.copytree() : will copy an entire folder and every folder and file contained in it"
   ]
  },
  {
   "cell_type": "markdown",
   "id": "e4e48227-2f74-4f47-aa2e-a9480b3ed422",
   "metadata": {},
   "source": [
    "2. What function is used to rename files??"
   ]
  },
  {
   "cell_type": "code",
   "execution_count": null,
   "id": "45be32a3-4e8a-4680-84fa-14a64711c515",
   "metadata": {},
   "outputs": [],
   "source": [
    "Ans. import os\n",
    "os.rename(\"text.txt\",\"testnew.txt\")"
   ]
  },
  {
   "cell_type": "markdown",
   "id": "50b506f1-f321-467a-930b-fdd94aedbe42",
   "metadata": {},
   "source": [
    "3. What is the difference between the delete functions in the send2trash and shutil modules?"
   ]
  },
  {
   "cell_type": "markdown",
   "id": "9e94b4df-985a-43c3-9af2-ac1a1b505246",
   "metadata": {},
   "source": [
    "Ans. import shutil shutil.retree(): The shutil module’s rmtree() function can be used to delete files or folders. But, this function delete the files permanently. The operations cannot be undone if there were any accidental deletions performed\n",
    "\n",
    "import send2trash\n",
    "\n",
    "send2trash.send2trash() : Using send2trash, we can send files to the Trash or Recycle Bin instead of permanently deleting them. If the directory contains files or other folders, those are also deleted. A TrashPermissionError exception is raised, in case a file could not be deleted due to permission error or any other unexpected reason."
   ]
  },
  {
   "cell_type": "code",
   "execution_count": null,
   "id": "0c0008f8-0de6-44a0-9921-0cecac4fbe0c",
   "metadata": {},
   "outputs": [],
   "source": [
    "import shutil\n",
    "import send2trash\n",
    "shutil.rmtree(\"path\")\n",
    "send2trash.send2trash(\"path\")"
   ]
  },
  {
   "cell_type": "markdown",
   "id": "982f7edc-20b5-4225-b020-b17fcf517d13",
   "metadata": {},
   "source": [
    "4.ZipFile objects have a close() method just like File objects’ close() method. What ZipFile method is equivalent to File objects’ open() method?"
   ]
  },
  {
   "cell_type": "markdown",
   "id": "b760dfa5-e3bb-4693-a08a-64e7233badcc",
   "metadata": {},
   "source": [
    "Ans. from zipfile import Zipfile with ZipFile(file_name, 'r') as zip: -> this code will open specified zipfile for us. we can use zip object to preform other operation the ziplife. like zip.read()"
   ]
  },
  {
   "cell_type": "code",
   "execution_count": null,
   "id": "0f2743be-1175-441a-94d0-42db0a18056e",
   "metadata": {},
   "outputs": [],
   "source": [
    "from zipfile import Zipfile\n",
    "with ZipFile(file_name, 'r') as zip"
   ]
  },
  {
   "cell_type": "code",
   "execution_count": null,
   "id": "2b1ea5fe-6d4c-4083-bfed-75fa391206fd",
   "metadata": {},
   "outputs": [],
   "source": []
  }
 ],
 "metadata": {
  "kernelspec": {
   "display_name": "Python 3 (ipykernel)",
   "language": "python",
   "name": "python3"
  },
  "language_info": {
   "codemirror_mode": {
    "name": "ipython",
    "version": 3
   },
   "file_extension": ".py",
   "mimetype": "text/x-python",
   "name": "python",
   "nbconvert_exporter": "python",
   "pygments_lexer": "ipython3",
   "version": "3.12.2"
  }
 },
 "nbformat": 4,
 "nbformat_minor": 5
}

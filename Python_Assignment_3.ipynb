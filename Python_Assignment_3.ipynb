{
 "cells": [
  {
   "cell_type": "markdown",
   "id": "45af2fac-eb6b-4b91-a251-a2750c6be380",
   "metadata": {},
   "source": [
    "1. Why are functions advantageous to have in your programs?"
   ]
  },
  {
   "cell_type": "code",
   "execution_count": null,
   "id": "592100a4-33f5-4fac-913f-d6cc07408461",
   "metadata": {},
   "outputs": [],
   "source": [
    "1(Ans).\n",
    "\n",
    " Advantages of having functions:\n",
    " Functions reduce the need for duplicate code. This makes programs shorter, easier to read, and easier to update."
   ]
  },
  {
   "cell_type": "markdown",
   "id": "da03dfa0-7693-4bb0-a499-c2bb537cfc19",
   "metadata": {},
   "source": [
    "2. When does the code in a function run: when it's specified or when it's called?"
   ]
  },
  {
   "cell_type": "code",
   "execution_count": null,
   "id": "88cb9012-8a3d-4c0c-a7f0-9c5c003f0107",
   "metadata": {},
   "outputs": [],
   "source": [
    "2(Ans).\n",
    "\n",
    " Code in the function runs when the function is called\n",
    "\n"
   ]
  },
  {
   "cell_type": "markdown",
   "id": "4621aa25-8809-40e2-8927-dfb77a068af5",
   "metadata": {},
   "source": [
    "3. What statement creates a function?"
   ]
  },
  {
   "cell_type": "code",
   "execution_count": null,
   "id": "53af64d3-3412-43eb-891e-40179a6fe9fd",
   "metadata": {},
   "outputs": [],
   "source": [
    "3(Ans).\n",
    "\n",
    "  The def statement defines (i.e. creates) a function.\n",
    "  Eg .\n",
    "  def my_func():\n",
    "  pass"
   ]
  },
  {
   "cell_type": "markdown",
   "id": "308b9eb5-8506-47d5-8976-ea25c916bb1b",
   "metadata": {},
   "source": [
    "4. What is the difference between a function and a function call?"
   ]
  },
  {
   "cell_type": "code",
   "execution_count": null,
   "id": "5255714e-9d5c-4716-af6b-4b73b35e3bf3",
   "metadata": {},
   "outputs": [],
   "source": [
    "4(ans).\n",
    "\n",
    "  #def of func\n",
    "  def my_func(): \n",
    "    pass \n",
    "  my_func() #calling of function"
   ]
  },
  {
   "cell_type": "code",
   "execution_count": null,
   "id": "51d2a4c2-afca-449c-bf91-4ba083bb9fb9",
   "metadata": {},
   "outputs": [],
   "source": [
    "  A function consists of the def statement and the code in its def clause.\n",
    "\n",
    "  A function call is what moves the program execution into the function, and the function call evaluates to the function s return value."
   ]
  },
  {
   "cell_type": "markdown",
   "id": "adee8af9-b2a8-43a1-a1cb-c0e757f147fb",
   "metadata": {},
   "source": [
    "5. How many global scopes are there in a Python program? How many local scopes?"
   ]
  },
  {
   "cell_type": "markdown",
   "id": "e8ed5f69-5388-49c0-811c-097b39bef9ec",
   "metadata": {},
   "source": [
    "5(Ans).\n",
    "\n",
    "  There's only one global Python scope per program execution. This scope remains in existence until the program terminates , and a local scope is         created whenever a function is called.\n",
    "\n"
   ]
  },
  {
   "cell_type": "markdown",
   "id": "59218fca-0126-43ca-8c7e-21537999ca6c",
   "metadata": {},
   "source": [
    "6. What happens to variables in a local scope when the function call returns?"
   ]
  },
  {
   "cell_type": "code",
   "execution_count": null,
   "id": "913458cc-b0a4-43d0-b8ec-7b6b8dd08de1",
   "metadata": {},
   "outputs": [],
   "source": [
    "6(Ans). \n",
    "\n",
    "  When a function returns, the local scope is destroyed."
   ]
  },
  {
   "cell_type": "markdown",
   "id": "613f337b-74cc-4e96-8cee-e1735085bf29",
   "metadata": {},
   "source": [
    "7. What is the concept of a return value? Is it possible to have a return value in an expression?"
   ]
  },
  {
   "cell_type": "code",
   "execution_count": null,
   "id": "9135e4ce-226b-474b-99bd-44b25089daf9",
   "metadata": {},
   "outputs": [],
   "source": [
    "7(ans).\n",
    "\n",
    "  A return value is the value that a function call evaluates to. Like any value, a return value can be used as part of an expression."
   ]
  },
  {
   "cell_type": "markdown",
   "id": "d4f0f2b5-a087-4b26-bfe1-7be56b863190",
   "metadata": {},
   "source": [
    "8. If a function does not have a return statement, what is the return value of a call to that function?"
   ]
  },
  {
   "cell_type": "code",
   "execution_count": null,
   "id": "180be7be-e2e5-4ca8-9a2b-697378578cd8",
   "metadata": {},
   "outputs": [],
   "source": [
    "8(Ans). \n",
    "\n",
    "  If the funtion does not have a return statement it will not return anything."
   ]
  },
  {
   "cell_type": "markdown",
   "id": "afec9a9d-50a1-4d93-9817-c3980079454c",
   "metadata": {},
   "source": [
    "9. How do you make a function variable refer to the global variable?"
   ]
  },
  {
   "cell_type": "code",
   "execution_count": null,
   "id": "4ac9b47b-b447-42a7-a191-f02a9df54e97",
   "metadata": {},
   "outputs": [],
   "source": [
    "9(Ans). \n",
    "\n",
    "  To make function variable as a global variable you can use the global keyword to declare which variables are global."
   ]
  },
  {
   "cell_type": "markdown",
   "id": "08a9fbdb-9bdb-4acb-81b4-35d0e2ad1cd8",
   "metadata": {},
   "source": [
    "10. What is the data type of None?"
   ]
  },
  {
   "cell_type": "code",
   "execution_count": null,
   "id": "38822b84-826e-4fb2-aa8a-f2a2453f928a",
   "metadata": {},
   "outputs": [],
   "source": [
    "10(Ans). \n",
    "\n",
    "  The data type of None is NoneType."
   ]
  },
  {
   "cell_type": "markdown",
   "id": "3c5b1794-b500-4eab-85c3-b89b38a172e7",
   "metadata": {},
   "source": [
    "11. What does the sentence import areallyourpetsnamederic do?"
   ]
  },
  {
   "cell_type": "code",
   "execution_count": null,
   "id": "fd887d14-3ebf-4b05-b791-71df316f90c6",
   "metadata": {},
   "outputs": [],
   "source": [
    "11(Ans).\n",
    "\n",
    "  That import statement imports a module named areallyourpetsnamederic. (But a module of this name doesnt exists in Python)"
   ]
  },
  {
   "cell_type": "markdown",
   "id": "48c08133-7f9d-4061-b7f3-5af945ba3c2e",
   "metadata": {},
   "source": [
    "12. If you had a bacon() feature in a spam module, what would you call it after importing spam?"
   ]
  },
  {
   "cell_type": "code",
   "execution_count": null,
   "id": "c1feed66-fe14-4fdd-877d-747b29a53e01",
   "metadata": {},
   "outputs": [],
   "source": [
    "12(Ans).\n",
    "\n",
    "  import spam\n",
    "  spam.bacon()"
   ]
  },
  {
   "cell_type": "markdown",
   "id": "cc077e42-145a-47ca-9613-87631c40e4f8",
   "metadata": {},
   "source": [
    "13. What can you do to save a programme from crashing if it encounters an error?"
   ]
  },
  {
   "cell_type": "code",
   "execution_count": null,
   "id": "4db1b198-6586-470b-a0b1-8f9d71634a82",
   "metadata": {},
   "outputs": [],
   "source": [
    "13(Ans). \n",
    "\n",
    "  We can use try except clause to save a program from crashing."
   ]
  },
  {
   "cell_type": "code",
   "execution_count": null,
   "id": "0f31771a-0d59-4204-abe9-27fd7e4e76f4",
   "metadata": {},
   "outputs": [],
   "source": []
  }
 ],
 "metadata": {
  "kernelspec": {
   "display_name": "Python 3 (ipykernel)",
   "language": "python",
   "name": "python3"
  },
  "language_info": {
   "codemirror_mode": {
    "name": "ipython",
    "version": 3
   },
   "file_extension": ".py",
   "mimetype": "text/x-python",
   "name": "python",
   "nbconvert_exporter": "python",
   "pygments_lexer": "ipython3",
   "version": "3.12.2"
  }
 },
 "nbformat": 4,
 "nbformat_minor": 5
}

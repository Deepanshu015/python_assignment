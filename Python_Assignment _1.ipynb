{
 "cells": [
  {
   "cell_type": "markdown",
   "id": "1dcc7198-502b-44fc-a91e-3740b0260520",
   "metadata": {},
   "source": [
    "1. In the below elements which of them are values or an expression? eg:- values can be integer or string and expressions will be mathematical operators.\n",
    "* \n",
    "'hello'\n",
    "-87.8\n",
    "- \n",
    "/ \n",
    "6"
   ]
  },
  {
   "cell_type": "code",
   "execution_count": null,
   "id": "0035ad59-14e3-4073-b411-19001b55cc27",
   "metadata": {},
   "outputs": [],
   "source": [
    "1(ans).\n",
    "\n",
    "   * is a mathematical operator.\n",
    "   'hello' is a string.\n",
    "    -87.8 is a float.\n",
    "    - is mathematical operator.\n",
    "    / is a mathematical operator.\n",
    "    6 is a integer.\n",
    "     "
   ]
  },
  {
   "cell_type": "markdown",
   "id": "cfba6ac4-a3d4-4304-90ed-c1bae8b6f81a",
   "metadata": {},
   "source": [
    "2. What is the difference between string and variable?"
   ]
  },
  {
   "cell_type": "code",
   "execution_count": null,
   "id": "6d759e92-7cdb-4a16-905d-5955b42735a7",
   "metadata": {},
   "outputs": [],
   "source": [
    "2(ans). \n",
    "\n",
    "    String is a collection of alphabets, words or other characters.\n",
    "&\n",
    "    variable is a container in which we can store a values. for eg - string and interger\n",
    "     "
   ]
  },
  {
   "cell_type": "markdown",
   "id": "ce0ef1a2-0778-4402-8496-e0bfb043c016",
   "metadata": {},
   "source": [
    "3. Describe three different data types."
   ]
  },
  {
   "cell_type": "code",
   "execution_count": null,
   "id": "789a0041-beab-499a-9c99-21d4a8e57050",
   "metadata": {},
   "outputs": [],
   "source": [
    "3(ans).\n",
    "\n",
    "1 - Text Type\n",
    "2 - Numeric Types\n",
    "3 - boolean"
   ]
  },
  {
   "cell_type": "markdown",
   "id": "6eb0e05a-59c2-44f8-8104-1661182687f8",
   "metadata": {},
   "source": [
    "4. What is an expression made up of? What do all expressions do?"
   ]
  },
  {
   "cell_type": "code",
   "execution_count": null,
   "id": "14897391-5144-4da3-950e-4e1c6c0b3578",
   "metadata": {},
   "outputs": [],
   "source": [
    "4(ans).\n",
    "\n",
    "   expression is made up of operators, variables and constants. they all help to get the value."
   ]
  },
  {
   "cell_type": "markdown",
   "id": "fa06658a-95ef-468e-8943-f29bb570e224",
   "metadata": {},
   "source": [
    "5. This assignment statements, like spam = 10. What is the difference between an expression and a statement?"
   ]
  },
  {
   "cell_type": "code",
   "execution_count": null,
   "id": "65fd2aa4-bb43-4bcc-b3df-40f710d1a976",
   "metadata": {},
   "outputs": [],
   "source": [
    "5(ans).\n",
    "\n",
    "  An expression usually refers to a piece of code that can be evaluated to a value.\n",
    "&\n",
    "  a statement refers to a piece of code that executes a specific instruction or tells the computer to complete a task."
   ]
  },
  {
   "cell_type": "markdown",
   "id": "efa5c8cd-6d2b-462a-a3c6-7353e18b435a",
   "metadata": {},
   "source": [
    "6. After running the following code, what does the variable bacon contain?"
   ]
  },
  {
   "cell_type": "code",
   "execution_count": 1,
   "id": "4570e8ad-a2a0-4262-8a2d-2df9a62b1db9",
   "metadata": {},
   "outputs": [
    {
     "name": "stdout",
     "output_type": "stream",
     "text": [
      "22\n"
     ]
    }
   ],
   "source": [
    "bacon = 22\n",
    "bacon + 1\n",
    "\n",
    "print (bacon)"
   ]
  },
  {
   "cell_type": "markdown",
   "id": "96e76dba-d52c-4d04-a9cc-5ab95854f104",
   "metadata": {},
   "source": [
    "7. What should the values of the following two terms be?\n",
    "'spam' + 'spamspam'\n",
    "'spam' * 3\n"
   ]
  },
  {
   "cell_type": "code",
   "execution_count": 6,
   "id": "5d08235b-0c05-4d37-9afd-691a52a257f4",
   "metadata": {},
   "outputs": [
    {
     "name": "stdout",
     "output_type": "stream",
     "text": [
      "spamspamspam\n",
      "spamspamspam\n"
     ]
    }
   ],
   "source": [
    "7(ans).\n",
    "\n",
    "print('spam' + 'spamspam')\n",
    "print('spam' * 3)"
   ]
  },
  {
   "cell_type": "markdown",
   "id": "8a7454a1-0095-4f75-ac3e-17bf89c47ff7",
   "metadata": {},
   "source": [
    "8. Why is eggs a valid variable name while 100 is invalid?"
   ]
  },
  {
   "cell_type": "code",
   "execution_count": null,
   "id": "32168a41-6bc9-43a4-b2c7-7b95ef62833a",
   "metadata": {},
   "outputs": [],
   "source": [
    "8(ans).\n",
    "\n",
    "   eggs is valid because it is text type which is permissible as variable while 100 is integer which is not permissible as variable. "
   ]
  },
  {
   "cell_type": "markdown",
   "id": "7ac371bb-b226-421a-9db9-dff88a35637a",
   "metadata": {},
   "source": [
    "9. What three functions can be used to get the integer, floating-point number, or string version of a value?"
   ]
  },
  {
   "cell_type": "code",
   "execution_count": null,
   "id": "c9d6e959-315a-43da-9c23-4ba75a7bbe98",
   "metadata": {},
   "outputs": [],
   "source": [
    "9(ans).\n",
    "\n",
    "(i). int()\n",
    "(ii). float()\n",
    "(iii). str()"
   ]
  },
  {
   "cell_type": "markdown",
   "id": "41ae7f8a-06e7-405b-999c-2ae78e5944cc",
   "metadata": {},
   "source": [
    "10. Why does this expression cause an error? How can you fix it?\n",
    "'I have eaten ' + 99 + ' burritos.'\n"
   ]
  },
  {
   "cell_type": "markdown",
   "id": "f4313455-3f38-4c7e-9142-d0376fedd612",
   "metadata": {},
   "source": [
    "'''10(ans).\n",
    "\n",
    "'I have eaten ' + 99 + ' burritos.'\n",
    "  this expression cause an error due to a integer involve in it(99) which can not be add with a string.\n",
    "\n",
    "  we can fix this expression by converting integer into string\n",
    "\n",
    "'I have eaten ' + '99' + ' burritos.'''\n",
    "print('I have eaten ' + '99' + ' burritos.')\n",
    "\n"
   ]
  },
  {
   "cell_type": "code",
   "execution_count": 9,
   "id": "b6f3f122-dae8-4db7-9165-b5f08b09a832",
   "metadata": {},
   "outputs": [
    {
     "name": "stdout",
     "output_type": "stream",
     "text": [
      "I have eaten 99 burritos.\n"
     ]
    }
   ],
   "source": [
    "print('I have eaten ' + '99' + ' burritos.')"
   ]
  }
 ],
 "metadata": {
  "kernelspec": {
   "display_name": "Python 3 (ipykernel)",
   "language": "python",
   "name": "python3"
  },
  "language_info": {
   "codemirror_mode": {
    "name": "ipython",
    "version": 3
   },
   "file_extension": ".py",
   "mimetype": "text/x-python",
   "name": "python",
   "nbconvert_exporter": "python",
   "pygments_lexer": "ipython3",
   "version": "3.12.2"
  }
 },
 "nbformat": 4,
 "nbformat_minor": 5
}

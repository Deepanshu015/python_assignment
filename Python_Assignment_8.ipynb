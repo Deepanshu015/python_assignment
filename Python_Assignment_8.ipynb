{
 "cells": [
  {
   "cell_type": "markdown",
   "id": "4b7448aa-9567-4067-aa9e-e3669c4d1234",
   "metadata": {},
   "source": [
    "1. Is the Python Standard Library included with PyInputPlus?"
   ]
  },
  {
   "cell_type": "markdown",
   "id": "0801bb3d-6bf0-489e-9dee-8387b2464416",
   "metadata": {},
   "source": [
    "Ans. PyInputPlus is a third-party module and doesn't come with the Python Standard Library."
   ]
  },
  {
   "cell_type": "markdown",
   "id": "8986352c-78b7-49ef-852c-5d4f488ad4cb",
   "metadata": {},
   "source": [
    "2. Why is PyInputPlus commonly imported with import pyinputplus as pypi?"
   ]
  },
  {
   "cell_type": "code",
   "execution_count": null,
   "id": "8c987a75-914b-439f-a4e9-f66f83cbda2f",
   "metadata": {},
   "outputs": [],
   "source": [
    "Ans. This optionally makes your code shorter to type: you can type pyip.inputStr() instead of pyinputplus.inputStr()."
   ]
  },
  {
   "cell_type": "markdown",
   "id": "d8d40c8b-5b7f-4ea0-8f0d-f16aef3c6b98",
   "metadata": {},
   "source": [
    "3. How do you distinguish between inputInt() and inputFloat()?"
   ]
  },
  {
   "cell_type": "markdown",
   "id": "e863cf99-02f2-4d2d-9863-bbe9801da2b9",
   "metadata": {},
   "source": [
    "Ans.The inputInt() function returns an int value, while the inputFloat() function returns a float value. This is the difference between returning 4 and 4.0."
   ]
  },
  {
   "cell_type": "markdown",
   "id": "5182502e-8563-481a-84ce-2ce49521c5fc",
   "metadata": {},
   "source": [
    "4. Using PyInputPlus, how do you ensure that the user enters a whole number between 0 and 99?"
   ]
  },
  {
   "cell_type": "code",
   "execution_count": null,
   "id": "67fe29a7-e465-4152-ba7a-c2fa458913be",
   "metadata": {},
   "outputs": [],
   "source": [
    "Ans. Call pyip.inputint(min=0, max=99)."
   ]
  },
  {
   "cell_type": "markdown",
   "id": "8785ff8d-92f0-41ee-8e13-9715f2e1f8d1",
   "metadata": {},
   "source": [
    "5. What is transferred to the keyword arguments allowRegexes and blockRegexes?"
   ]
  },
  {
   "cell_type": "code",
   "execution_count": null,
   "id": "68f59bd2-ccc4-4deb-930a-baa50b196811",
   "metadata": {},
   "outputs": [],
   "source": [
    "Ans. A list of regex strings that are either explicitly allowed or denied"
   ]
  },
  {
   "cell_type": "markdown",
   "id": "11f4ff59-4533-4cf0-bf45-db66874a7526",
   "metadata": {},
   "source": [
    "6. If a blank input is entered three times, what does inputStr(limit=3) do?"
   ]
  },
  {
   "cell_type": "code",
   "execution_count": null,
   "id": "f0fbd79b-830f-48c5-987a-4b56b7c899f7",
   "metadata": {},
   "outputs": [],
   "source": [
    "Ans. The function will raise RetryLimitException."
   ]
  },
  {
   "cell_type": "code",
   "execution_count": null,
   "id": "6f6d9dba-45eb-4c65-b9e9-92739dd399b3",
   "metadata": {},
   "outputs": [],
   "source": [
    "7. If blank input is entered three times, what does inputStr(limit=3, default='hello') do?"
   ]
  },
  {
   "cell_type": "code",
   "execution_count": null,
   "id": "1b306c8e-ec94-4d6b-80a6-3e4246b79bc4",
   "metadata": {},
   "outputs": [],
   "source": [
    "Ans. The function returns the value 'hello'."
   ]
  }
 ],
 "metadata": {
  "kernelspec": {
   "display_name": "Python 3 (ipykernel)",
   "language": "python",
   "name": "python3"
  },
  "language_info": {
   "codemirror_mode": {
    "name": "ipython",
    "version": 3
   },
   "file_extension": ".py",
   "mimetype": "text/x-python",
   "name": "python",
   "nbconvert_exporter": "python",
   "pygments_lexer": "ipython3",
   "version": "3.12.2"
  }
 },
 "nbformat": 4,
 "nbformat_minor": 5
}

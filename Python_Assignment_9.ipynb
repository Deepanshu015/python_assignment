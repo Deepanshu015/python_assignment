{
 "cells": [
  {
   "cell_type": "markdown",
   "id": "698d7635-66a3-46e9-8cff-8d2c6af30e89",
   "metadata": {},
   "source": [
    "1. To what does a relative path refer?"
   ]
  },
  {
   "cell_type": "markdown",
   "id": "7d45877e-1047-45ce-9d06-4f69a787dd1f",
   "metadata": {},
   "source": [
    "Ans. The relative_path variable is a string in which you define the location of the folder that you want to fetch relative to the working directory. "
   ]
  },
  {
   "cell_type": "markdown",
   "id": "82710944-cd05-49aa-9f25-8eaf888729a2",
   "metadata": {},
   "source": [
    "2. What does an absolute path start with your operating system?"
   ]
  },
  {
   "cell_type": "markdown",
   "id": "62419d3e-a81b-46bd-9df1-a6ef90fd5de7",
   "metadata": {},
   "source": [
    "Ans. An absolute path in Python is the full path starting from the root of the operating file system up until the working directory.\n",
    "Absolute paths start with the root folder, such as / or C:\\."
   ]
  },
  {
   "cell_type": "markdown",
   "id": "3252bca7-015f-415c-9265-af95955a4b01",
   "metadata": {},
   "source": [
    "3. What do the functions os.getcwd() and os.chdir() do?"
   ]
  },
  {
   "cell_type": "markdown",
   "id": "551d3bf7-4ca2-4f52-a15e-b8576a4cc3bc",
   "metadata": {},
   "source": [
    "Ans.The os.chdir() method changes the current working directory to a specific path.\n",
    "The current working directory can be printed using the os.getcwd() method."
   ]
  },
  {
   "cell_type": "markdown",
   "id": "290af70b-1231-46da-8e6a-082b43ef0e81",
   "metadata": {},
   "source": [
    "4. What are the . and .. folders?"
   ]
  },
  {
   "cell_type": "markdown",
   "id": "843aee62-3799-45e6-93e4-bf98c1861970",
   "metadata": {},
   "source": [
    "Ans. The . folder is the current folder, and .. is the parent folder."
   ]
  },
  {
   "cell_type": "code",
   "execution_count": null,
   "id": "c73fb5c8-da1c-438d-bedb-57bb47ede6a2",
   "metadata": {},
   "outputs": [],
   "source": [
    "5. In C:\\bacon\\eggs\\spam.txt, which part is the dir name, and which part is the base name?"
   ]
  },
  {
   "cell_type": "markdown",
   "id": "2364590b-48f7-41f1-b12f-a9d94cd7d67f",
   "metadata": {},
   "source": [
    "Ans. C:\\bacon\\eggs is the dir name, while spam.txt is the base name."
   ]
  },
  {
   "cell_type": "markdown",
   "id": "89a53b9d-89c7-4d60-abb3-82aabf7a81ae",
   "metadata": {},
   "source": [
    "6. What are the three “mode” arguments that can be passed to the open() function?"
   ]
  },
  {
   "cell_type": "markdown",
   "id": "4bbbabe8-8cd8-4151-84b4-f31a91ba62ec",
   "metadata": {},
   "source": [
    "Ans. The string 'r' for read mode, 'w' for write mode, and 'a' for append mode"
   ]
  },
  {
   "cell_type": "markdown",
   "id": "8c3140cd-7a17-4444-b0f3-202a55618d61",
   "metadata": {},
   "source": [
    "7. What happens if an existing file is opened in write mode?"
   ]
  },
  {
   "cell_type": "markdown",
   "id": "1c532493-8519-4c50-adfd-18c2f285b939",
   "metadata": {},
   "source": [
    "Ans. An existing file opened in write mode is erased and completely overwritten."
   ]
  },
  {
   "cell_type": "markdown",
   "id": "fefa0c9c-e598-49b1-99ab-fbbce8d9c954",
   "metadata": {},
   "source": [
    "8. How do you tell the difference between read() and readlines()?"
   ]
  },
  {
   "cell_type": "markdown",
   "id": "236ad5fc-2ea3-4493-8375-7c8c85520974",
   "metadata": {},
   "source": [
    "Ans. The read() method returns the file’s entire contents as a single string value. The readlines() method returns a list of strings, where each string is a line from the file’s contents."
   ]
  }
 ],
 "metadata": {
  "kernelspec": {
   "display_name": "Python 3 (ipykernel)",
   "language": "python",
   "name": "python3"
  },
  "language_info": {
   "codemirror_mode": {
    "name": "ipython",
    "version": 3
   },
   "file_extension": ".py",
   "mimetype": "text/x-python",
   "name": "python",
   "nbconvert_exporter": "python",
   "pygments_lexer": "ipython3",
   "version": "3.12.2"
  }
 },
 "nbformat": 4,
 "nbformat_minor": 5
}
